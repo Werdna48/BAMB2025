{
 "cells": [
  {
   "cell_type": "markdown",
   "id": "64032575",
   "metadata": {},
   "source": [
    "# Hidden Markov Models"
   ]
  },
  {
   "cell_type": "code",
   "execution_count": 28,
   "id": "edb2c4ab",
   "metadata": {},
   "outputs": [
    {
     "name": "stdout",
     "output_type": "stream",
     "text": [
      "zsh:1: command not found: wget\r\n"
     ]
    }
   ],
   "source": [
    "# custom library with some pre-coded functions\n",
    "!wget -q https://raw.githubusercontent.com/bambschool/BAMB2025/main/Day_4_latent_variable_models/hmm_library.py"
   ]
  },
  {
   "cell_type": "code",
   "execution_count": 27,
   "id": "9a002045",
   "metadata": {},
   "outputs": [
    {
     "name": "stdout",
     "output_type": "stream",
     "text": [
      "zsh:1: command not found: wget\r\n"
     ]
    }
   ],
   "source": [
    "import numpy as np\n",
    "import scipy.stats as sps\n",
    "import scipy.optimize as spo\n",
    "import scipy.special as scsp\n",
    "\n",
    "import matplotlib.pyplot as plt\n",
    "import seaborn as sns\n",
    "\n",
    "import hmm_library as hmmlib"
   ]
  },
  {
   "cell_type": "markdown",
   "id": "86178c38",
   "metadata": {},
   "source": [
    "## Tutorial content\n",
    "\n",
    "1. generative hidden Markov model: simulate data\n",
    "2. EM for Hidden Markov models\n",
    "\n",
    "*Note*: You can find many parts of the code pre-coded in the accompanying `hmm_library.py`."
   ]
  },
  {
   "cell_type": "markdown",
   "id": "c87612ee",
   "metadata": {},
   "source": [
    "# 0. Intro"
   ]
  },
  {
   "attachments": {},
   "cell_type": "markdown",
   "id": "5f4ac227",
   "metadata": {},
   "source": [
    "As in the previous tutorial, we simulate saccade data. We will now assume that the value of objects, hidden to subjects, fluctuates throughout the experiment as follows:\n",
    "\n",
    "![](https://raw.githubusercontent.com/bambschool/BAMB2025/main/Day_4_latent_variable_models/HMM1.png)\n",
    "\n",
    "We assume that subjects \"track\" these values, i.e. that they prefer one item for a few trials, then switch to another item, etc. Hence, saccade endpoints will be dependent between trials.\n",
    "To obtain insight into the subject's value inference, we will model the temporal dependency between trials explicitly using *hidden Markov models*. "
   ]
  },
  {
   "cell_type": "markdown",
   "id": "53d144bf",
   "metadata": {},
   "source": [
    "# 1. The Markov model as a generative model"
   ]
  },
  {
   "attachments": {},
   "cell_type": "markdown",
   "id": "f38320c7",
   "metadata": {},
   "source": [
    "We can understand Markov models as an extension of mixture models, where sample $n$ depends on sample $n-1$ (e.g. the previous trial). Like mixture models, Markov models have two classes of variables:\n",
    "\n",
    "- **Latent variables** $\\boldsymbol{z} \\in \\{0, 1\\}^{K \\times N}$, indicating the class of each sample. In HMMs, $\\boldsymbol{z}$ is often called *state*.\n",
    "- **Observations** $\\boldsymbol{x}$, here $\\boldsymbol{x} \\in \\mathbb{R}^{D \\times N}$ (but observations could also be categorical). In HMMs, $\\boldsymbol{x}$ are also called *emissions*. We will model Gaussian emissions $\\boldsymbol{x} | \\boldsymbol{z} \\sim \\mathcal{N}(\\mu, \\Sigma)$.\n",
    "\n",
    "![](https://raw.githubusercontent.com/bambschool/BAMB2025/main/Day_4_latent_variable_models/HMM2.png)\n",
    "\n",
    "The sequential interdependency of latent variables is jointly described as a *Markov chain*\n",
    "\n",
    "\\begin{align}\n",
    "p(\\boldsymbol{z}_0, ..., \\boldsymbol{z}_N) = p(\\boldsymbol{z}_0) \\prod_{n=1}^{N} p(\\boldsymbol{z}_n | \\boldsymbol{z}_{n-1})\n",
    "\\end{align}\n",
    "\n",
    "The joint distribution of latent and observed variables is\n",
    "\n",
    "\\begin{align}\n",
    "p(\\boldsymbol{x}, \\boldsymbol{z} | \\theta) = p(\\boldsymbol{x}_0, ..., \\boldsymbol{x}_N, \\boldsymbol{z}_0, ..., \\boldsymbol{z}_N | \\theta) = p(\\boldsymbol{z}_0 | \\theta) \\prod_{n=1}^{N} p(\\boldsymbol{z}_n | \\boldsymbol{z}_{n-1}, \\theta) \\prod_{n=0}^{N} p(\\boldsymbol{x}_n | \\boldsymbol{z}_{n}, \\theta)\n",
    "\\end{align}<div style=\"text-align: right\"> Eq. (1) </div>\n",
    "\n",
    "where \n",
    "- $p(\\boldsymbol{x}_n | \\boldsymbol{z}_n, \\theta)$ are the *emission probabilities*, i.e. the likelihood that $\\boldsymbol{x}_n$ was sampled from state $k$ encoded in $\\boldsymbol{z}_n$ \n",
    "- $p(\\boldsymbol{z}_0 | \\theta)$ a vector of $k$ *initial state probabilities*, parametrized by $\\pi_k$, \n",
    "- and $p(\\boldsymbol{z}_n | \\boldsymbol{z}_{n-1}, \\theta)$ the *transition probabilities* between states in two adjacent samples. Since we need to know the probability to transition from any of $k$ states into any other state, transition probabilities are parametrized by a matrix $\\boldsymbol{A} \\in [0,1]^{K \\times K}$, with $A_{jk} = p(z_{n,k}=1 | z_{n-1,j}=1)$ (rows sum to 1).\n",
    "\n",
    "Sample an artificial dataset of 1000 trials from Eq. (1). Hyperparameters $K$ and $D$, as well as $\\mu$, $\\Sigma$, and $\\pi$ are taken to be the same as in the Gaussian mixture model tutorial (but note that $\\pi$ now has a slightly different interpretation)."
   ]
  },
  {
   "cell_type": "markdown",
   "id": "20d64631",
   "metadata": {},
   "source": [
    "## 1.1. Ground truth parameters \n",
    "\n"
   ]
  },
  {
   "cell_type": "code",
   "execution_count": 2,
   "id": "e3aa8de0",
   "metadata": {},
   "outputs": [],
   "source": [
    "# set random seed\n",
    "np.random.seed(0)\n",
    "\n",
    "# Hyperparameters\n",
    "N = 1000\n",
    "K = 3\n",
    "D = 2\n",
    "\n",
    "# screen borders\n",
    "borders = np.array([[0,80], [0,60]])\n",
    "\n",
    "# initial state probabilities\n",
    "pis = [.2, .35, .45]\n",
    "\n",
    "# transition probabilities - normalize rows to sum to 1\n",
    "As = np.eye(K) + np.random.rand(K,K)/50\n",
    "As = np.array([a/np.sum(a) for a in As])\n",
    "\n",
    "# mus\n",
    "mus = [np.array([20,20]), np.array([35,40]), np.array([60,25])]\n",
    "\n",
    "# pick covariances - make symmetric with small covariance to ensure they are positive semidefinite\n",
    "sigmas = [20*np.array([[1,-.4],[-.4,1]]), \n",
    "          40*np.array([[.5,0],[0,1]]), \n",
    "          40*np.array([[1,.1],[.1,1]])]"
   ]
  },
  {
   "cell_type": "markdown",
   "id": "090364a9",
   "metadata": {},
   "source": [
    "## 1.2. True value of latent variable $\\boldsymbol{z}$\n",
    "\n",
    "Write a loop to sample $\\boldsymbol{z}$. Choose $z_n$ based on $z_{n-1}$ based on transition probabilities in $A$."
   ]
  },
  {
   "cell_type": "code",
   "execution_count": 3,
   "id": "26b94649",
   "metadata": {},
   "outputs": [],
   "source": [
    "# sample initial state\n",
    "\n",
    "# sample state sequence in a loop, with probabilities taken from row k of matrix A\n",
    "\n",
    "# make K x N array for true values of z\n"
   ]
  },
  {
   "cell_type": "markdown",
   "id": "d78bb8e4",
   "metadata": {},
   "source": [
    "Plot the sequence of states over time."
   ]
  },
  {
   "cell_type": "code",
   "execution_count": 4,
   "id": "f587a95f",
   "metadata": {},
   "outputs": [
    {
     "data": {
      "text/plain": [
       "Text(0.5, 0, 'trial')"
      ]
     },
     "execution_count": 4,
     "metadata": {},
     "output_type": "execute_result"
    },
    {
     "data": {
      "image/png": "[encoded data removed]",
      "text/plain": [
       "<Figure size 1500x200 with 1 Axes>"
      ]
     },
     "metadata": {
      "needs_background": "light"
     },
     "output_type": "display_data"
    }
   ],
   "source": [
    "plt.figure(figsize=(15,2), dpi=100)\n",
    "# plt.plot(ks, 'k-')\n",
    "plt.xlim(0,N)\n",
    "plt.ylabel('state')\n",
    "plt.xlabel('trial')"
   ]
  },
  {
   "cell_type": "markdown",
   "id": "290f872d",
   "metadata": {},
   "source": [
    "## 1.3. Sample observations $\\boldsymbol{x}$\n",
    "\n",
    "Sample observations $\\boldsymbol{x}$ from a multivariate Gaussian as in the previous tutorial. Uncomment the respective lines to plot saccade data across trials in the 2D space of observations."
   ]
  },
  {
   "cell_type": "code",
   "execution_count": 5,
   "id": "a7301f82",
   "metadata": {},
   "outputs": [],
   "source": [
    "# simulate saccades depending on k_n\n"
   ]
  },
  {
   "cell_type": "code",
   "execution_count": 6,
   "id": "b2b0d4d3",
   "metadata": {},
   "outputs": [
    {
     "data": {
      "image/png": "[encoded data removed]",
      "text/plain": [
       "<Figure size 700x300 with 2 Axes>"
      ]
     },
     "metadata": {
      "needs_background": "light"
     },
     "output_type": "display_data"
    }
   ],
   "source": [
    "# plot data\n",
    "colors = ['y', 'r', 'b']\n",
    "\n",
    "plt.figure(figsize=(7,3), dpi=100)\n",
    "plt.subplot(1,2,1)\n",
    "# plt.scatter(saccades[:,0], saccades[:,1], c='k', alpha=.05)\n",
    "# plt.plot(saccades[:,0], saccades[:,1], 'k-', alpha=.1)\n",
    "# for mi,m in enumerate(mus):\n",
    "#     plt.plot(m[0], m[1], 'o', color=colors[mi], ms=10)\n",
    "plt.xlim(borders[0])\n",
    "plt.ylim(borders[1])\n",
    "plt.xlabel('horizontal position (a.u.)')\n",
    "plt.ylabel('vertical position (a.u.)')\n",
    "plt.title('observed')\n",
    "\n",
    "plt.subplot(1,2,2)\n",
    "# plt.scatter(saccades[:,0], saccades[:,1], c=[colors[k] for k in ks], alpha=.05)\n",
    "# plt.plot(saccades[:,0], saccades[:,1], 'k-', alpha=.1)\n",
    "# for mi,m in enumerate(mus):\n",
    "#     plt.plot(m[0], m[1], 'o', color=colors[mi], ms=10)\n",
    "plt.xlim(borders[0])\n",
    "plt.ylim(borders[1])\n",
    "plt.xlabel('horizontal position (a.u.)')\n",
    "plt.ylabel('vertical position (a.u.)')\n",
    "plt.title('true')\n",
    "plt.tight_layout()"
   ]
  },
  {
   "cell_type": "markdown",
   "id": "65f39180",
   "metadata": {},
   "source": [
    "# 2. Fitting hidden Markov models with EM"
   ]
  },
  {
   "cell_type": "markdown",
   "id": "33989173",
   "metadata": {},
   "source": [
    "To the experimenter, the values of the latent variable $\\boldsymbol{z}$ are unobserved or *hidden* - this is how a Markov model becomes a hidden Markov model.\n",
    "\n",
    "Our inference problem concerns:\n",
    "- the value of the hidden variable, $z_n$, for observation $x_n$\n",
    "- parameters $\\theta = \\{\\mu, \\Sigma, \\pi, \\boldsymbol{A}\\}$.\n",
    "\n",
    "We will use the EM algorithm to iteratively infer posteriors over $\\boldsymbol{z}$ and the parameters $\\theta$. The E step is more complicated than in mixture models, due to the sequential dependency of $\\boldsymbol{z}$."
   ]
  },
  {
   "cell_type": "markdown",
   "id": "31ca3eb1",
   "metadata": {},
   "source": [
    "## 2.1. Initialization"
   ]
  },
  {
   "cell_type": "markdown",
   "id": "4cb46f57",
   "metadata": {},
   "source": [
    "Write a function to pick random values for the parameters (within sensible bounds; you can re-use code from the previous tutorial). \n",
    "\n",
    "Initialize $\\boldsymbol{A}$ as a $K \\times K$ identity matrix and add some noise. Keep in mind that all elements $A_{jk}\\ge 0$. Normalize rows of $\\boldsymbol{A}$ as well as the initial state probabilities $\\pi$."
   ]
  },
  {
   "cell_type": "code",
   "execution_count": 7,
   "id": "335f8596",
   "metadata": {},
   "outputs": [],
   "source": [
    "# function to initialize the HMM\n",
    "def initialize_HMM(K, D, lower, higher, seed):\n",
    "    \n",
    "    np.random.seed(seed)\n",
    "    # mu: initialize means to random integers\n",
    "    \n",
    "    # Sigma: initialize covariance to random integer on diagonal, 0 off-diagonal\n",
    "\n",
    "    \n",
    "    # pi: pick random numbers that sum to 1\n",
    "\n",
    "    # A: Identity plus random numbers, rows should sum to 1\n",
    "    \n",
    "    return m, s, p, A"
   ]
  },
  {
   "cell_type": "code",
   "execution_count": 8,
   "id": "f6122337",
   "metadata": {},
   "outputs": [],
   "source": [
    "# call initialization\n"
   ]
  },
  {
   "cell_type": "markdown",
   "id": "e1148da9",
   "metadata": {},
   "source": [
    "## 2.2. Evaluation of log likelihoods"
   ]
  },
  {
   "cell_type": "markdown",
   "id": "8f56f104",
   "metadata": {},
   "source": [
    "The likelihood $p(\\boldsymbol{x}_n | z_{nk}=1, \\theta)$ tells us how likely each sample is under a class- (or state-)specific model. We have used it in the mixture model tutorial (in the E Step, as well as for the evaluation of the expected complete-data log likelihood), but we have never visualized what it tells us about the data.\n",
    "\n",
    "Evaluate the log likelihood $\\ln p(\\boldsymbol{x}_n | z_{nk}=1, \\theta)$ for each sample $n$. The resulting array should have shape $K \\times N$: It encodes the likelihood of sample $n$ belonging to state $k$. \n",
    "\n",
    "Use the pre-coded plotting function to plot the probability density for each state, as well as the observations, color-coded by the log likelihood."
   ]
  },
  {
   "cell_type": "code",
   "execution_count": 9,
   "id": "fc566398",
   "metadata": {},
   "outputs": [],
   "source": [
    "# evaluate log likelihood for each datapoint\n"
   ]
  },
  {
   "cell_type": "code",
   "execution_count": 10,
   "id": "b49a3f57",
   "metadata": {},
   "outputs": [
    {
     "data": {
      "image/png": "[encoded data removed]",
      "text/plain": [
       "<Figure size 1200x250 with 3 Axes>"
      ]
     },
     "metadata": {
      "needs_background": "light"
     },
     "output_type": "display_data"
    }
   ],
   "source": [
    "# make 2D meshgrid\n",
    "x, y = np.mgrid[0:80:1, 0:60:1]\n",
    "vals = np.dstack((x,y))\n",
    "\n",
    "# evaluate pdf at grid \n",
    "\n",
    "\n",
    "plt.figure(figsize=(12,2.5), dpi=100)\n",
    "for k in range(K):\n",
    "    plt.subplot(1,3,k+1)\n",
    "#     plt.contour(pdfs[k].T, colors='k')\n",
    "#     plt.scatter(saccades[:,0], saccades[:,1], c=log_likes[k], cmap='magma', vmin=-50, vmax=-5)\n",
    "#     plt.title(r'$\\mu_k = [%.0f, %.0f]$' %(m[k][0], m[k][1]))\n",
    "    plt.xlim(0,80)\n",
    "    plt.ylim(0,60)\n",
    "#     plt.colorbar(label= r'$\\ln p(x_n | z_{nk}=1, \\theta_k)$')\n",
    "plt.tight_layout()"
   ]
  },
  {
   "cell_type": "markdown",
   "id": "18ac3db0",
   "metadata": {},
   "source": [
    "## 2.3. E Step"
   ]
  },
  {
   "cell_type": "markdown",
   "id": "703729f4",
   "metadata": {},
   "source": [
    "As in the last tutorial, we want to infer posterior distributions of the latent variable, which are then used to maximize the expected complete-data log likelihood in the M Step. Since $\\boldsymbol{z}$ is *not i.i.d.*, but has temporal interdependencies (see graph and Eq. (1)), two posteriors are of interest: \n",
    "- The probability of observing state $k$ at trial $n$, $\\gamma(z_{nk})$\n",
    "- the probability of observing state $k$ in trial $n$, after having observed state $j$ in trial $n-1$, $\\xi(z_{n-1,j},z_{nk})$."
   ]
  },
  {
   "attachments": {},
   "cell_type": "markdown",
   "id": "c7a14f13",
   "metadata": {},
   "source": [
    "### 2.3.1. Marginal posterior $\\gamma$\n",
    "\n",
    "We can use Bayes theorem to calculate the marginal posterior $\\gamma(z_n) = p(\\boldsymbol{z}_n | \\boldsymbol{x}, \\theta)$ (dropping $\\theta$ to keep this uncluttered):\n",
    "\n",
    "\\begin{align}\n",
    "p(\\boldsymbol{z}_n | \\boldsymbol{x}) &= \\frac{p(\\boldsymbol{x} | \\boldsymbol{z}_n) p(\\boldsymbol{z}_n)}{p(\\boldsymbol{x})} \\\\\n",
    "&= \\frac{p(\\boldsymbol{x}_{0:n} | \\boldsymbol{z}_n) p(\\boldsymbol{x}_{n+1:N} | \\boldsymbol{z}_n) p(\\boldsymbol{z}_n)}{p(\\boldsymbol{x})} \\\\\n",
    "\\end{align} \n",
    "\n",
    "where we separate $p(\\boldsymbol{x} | \\boldsymbol{z}_n)$ into two terms, $p(\\boldsymbol{x}_{0:n} | \\boldsymbol{z}_n)$ and $p(\\boldsymbol{x}_{n+1:N} | \\boldsymbol{z}_n)$. We can do this because observations $\\boldsymbol{x}_{0:n}$ and $\\boldsymbol{x}_{n+1:N}$ are conditionally independent, given $\\boldsymbol{z}_{n}$, as shown in this graph: \n",
    "\n",
    "![](https://raw.githubusercontent.com/bambschool/BAMB2025/main/Day_4_latent_variable_models/HMM3.png)\n",
    "\n",
    "Moreover, we introduce *forward messages* $\\alpha(\\boldsymbol{z}_n) = p(\\boldsymbol{x}_{0:n} | \\boldsymbol{z}_n) p(\\boldsymbol{z}_n) = p(\\boldsymbol{x}_{0:n}, \\boldsymbol{z}_n)$ and *backward messages* $\\beta(\\boldsymbol{z}_n) = p(\\boldsymbol{x}_{n+1:N} | \\boldsymbol{z}_n)$, so that:\n",
    "\n",
    "\\begin{align}\n",
    "p(\\boldsymbol{z}_n | \\boldsymbol{x}) &= \\frac{\\alpha(\\boldsymbol{z}_n) \\beta(\\boldsymbol{z}_n)}{p(\\boldsymbol{x})} \n",
    "\\end{align} <div style=\"text-align: right\"> Eq. (2) </div>"
   ]
  },
  {
   "cell_type": "markdown",
   "id": "f818676c",
   "metadata": {},
   "source": [
    "### 2.3.2. Joint posterior $\\xi$\n",
    "\n",
    "Similarly, we can calculate the joint posterior $\\xi(z_n,z_{n-1}) = p(\\boldsymbol{z}_{n-1}, \\boldsymbol{z}_n | \\boldsymbol{x}, \\theta)$ (again omitting $\\theta$ and skipping intermediate steps of the derivation):\n",
    "\n",
    "\\begin{align}\n",
    "p(\\boldsymbol{z}_{n-1}, \\boldsymbol{z}_n | \\boldsymbol{x}) &= \\frac{p(\\boldsymbol{x} | \\boldsymbol{z}_{n-1}, \\boldsymbol{z}_{n}) p(\\boldsymbol{z}_{n-1}, \\boldsymbol{z}_{n})}{p(\\boldsymbol{x})} \\\\\n",
    "&= \\frac{\\alpha(\\boldsymbol{z}_{n-1}) p(\\boldsymbol{x}_n | \\boldsymbol{z}_n) p(\\boldsymbol{z}_n | \\boldsymbol{z}_{n-1}) \\beta(\\boldsymbol{z}_n)}{p(\\boldsymbol{x})} \n",
    "\\end{align} <div style=\"text-align: right\"> Eq. (3) </div>\n",
    "\n",
    "To calculate $\\alpha(\\boldsymbol{z}_n)$ and $\\beta(\\boldsymbol{z}_n)$, we use a recurrent algorithm, called the *forward-backward algorithm* (also called Baum-Welch algorithm)."
   ]
  },
  {
   "attachments": {},
   "cell_type": "markdown",
   "id": "a0dd5762",
   "metadata": {},
   "source": [
    "### 2.3.3. Forward-backward algorithm\n",
    "\n",
    "*Forward messages* $\\alpha(\\boldsymbol{z}_n) = p(\\boldsymbol{x}_{0:n}, \\boldsymbol{z}_n)$ tell us for each trial $n$ the probability of being in state $\\boldsymbol{z}_n$, given all obervations $\\boldsymbol{x}_{0:n}$ up tp $n$. *Backward messages* $\\beta(\\boldsymbol{z}_n) = p(\\boldsymbol{x}_{n+1:N} | \\boldsymbol{z}_n)$ look ahead in time: What would be the probability of *future* observations $\\boldsymbol{x}_{n+1:N}$, if we started from each of the states $\\boldsymbol{z}_n$ in trial $n$?\n",
    "\n",
    "![](https://raw.githubusercontent.com/bambschool/BAMB2025/main/Day_4_latent_variable_models/HMM4.png)\n",
    "\n",
    "The forward-backward algorithm calculates $\\alpha(\\boldsymbol{z}_n)$ from $\\alpha(\\boldsymbol{z}_{n-1})$, and  $\\beta(\\boldsymbol{z}_n)$ from $\\beta(\\boldsymbol{z}_{n+1})$.\n",
    "\n",
    "Hence, we'll have to calculate $\\alpha(\\boldsymbol{z}_0)$ and $\\beta(\\boldsymbol{z}_N)$ and then iterate forward or backward in time. For the sake of time, we implemented these equations for you in the `hmm_library`, commenting on what each line does - no need to look at it now.\n",
    "\n",
    "#### Forward messages\n",
    "\n",
    "We calculate forward messages as\n",
    "\n",
    "\\begin{align}\n",
    "\\alpha(\\boldsymbol{z}_0) &= p(\\boldsymbol{z}_0)p(\\boldsymbol{x}_0 | \\boldsymbol{z}_0)  \\\\\n",
    "\\alpha(\\boldsymbol{z}_n) &= p(\\boldsymbol{x}_n | \\boldsymbol{z}_n) \\sum_{z} \\{\\alpha(\\boldsymbol{z}_{n-1})p(\\boldsymbol{z}_n | \\boldsymbol{z}_{n-1})\\} \n",
    "\\end{align}\n",
    "\n",
    "Note that we will again calculate log-transformed values $\\ln \\alpha(\\boldsymbol{z}_n)$, since they are easier to work with. \n",
    "Call `log_alphas = hmmlib.forward(p, A, log_likes)` to get log-transformed forward messages."
   ]
  },
  {
   "cell_type": "code",
   "execution_count": 11,
   "id": "59411e6c",
   "metadata": {},
   "outputs": [],
   "source": [
    "# call forward algorithm\n"
   ]
  },
  {
   "cell_type": "markdown",
   "id": "2b1f564e",
   "metadata": {},
   "source": [
    "#### Backward messages\n",
    "\n",
    "Then, we call `log_betas = hmmlib.backward(A, log_likes)` to calculate log-transformed backward messages $\\ln \\beta(\\boldsymbol{z}_n)$, where\n",
    "\n",
    "\\begin{align}\n",
    "\\beta(\\boldsymbol{z}_N) &= 1 \\\\\n",
    "\\beta(\\boldsymbol{z}_n) &= \\sum_{z} \\beta(z_{n+1}) p(\\boldsymbol{x}_{n+1} | \\boldsymbol{z}_{n+1}) p(\\boldsymbol{z}_{n+1} | \\boldsymbol{z}_n)\n",
    "\\end{align}\n",
    "\n",
    "The initial value is taken to be 1, so that $p(\\boldsymbol{z}_N | \\boldsymbol{x}) = \\frac{p(\\boldsymbol{z}_N, \\boldsymbol{x}) \\beta(\\boldsymbol{z}_N)}{p(\\boldsymbol{x})}$ is properly normalized. Call `log_betas = hmmlib.backward(A, log_likes)` to get log-transformed backward messages."
   ]
  },
  {
   "cell_type": "code",
   "execution_count": 12,
   "id": "eb3fe92c",
   "metadata": {},
   "outputs": [],
   "source": [
    "# call backward algorithm\n"
   ]
  },
  {
   "cell_type": "markdown",
   "id": "70c9a21b",
   "metadata": {},
   "source": [
    "### 2.3.4. Calculate expected states: marginal posterior $\\gamma$\n",
    "\n",
    "Write a function that implements Eq. (2) to calculate the posterior $\\gamma(z_n) = p(\\boldsymbol{z}_n | \\boldsymbol{x})$ from $\\alpha(\\boldsymbol{z}_n)$ and $\\beta(\\boldsymbol{z}_n)$. For reference, here we have Eq. (2) written out in a slightly different way:\n",
    "\n",
    "\\begin{align}\n",
    "p(\\boldsymbol{z}_n | \\boldsymbol{x}) \n",
    "= \\frac{p(\\boldsymbol{x} | \\boldsymbol{z}_n) p(\\boldsymbol{z}_n)}{p(\\boldsymbol{x})}\n",
    "= \\frac{{p(\\boldsymbol{x}, \\boldsymbol{z}_n)}}{\\sum_{\\boldsymbol{z}} p(\\boldsymbol{x}, \\boldsymbol{z}_n)} \n",
    "= \\frac{\\alpha(\\boldsymbol{z}_n) \\beta(\\boldsymbol{z}_n)}{\\sum_{\\boldsymbol{z}} \\alpha(\\boldsymbol{z}_n) \\beta(\\boldsymbol{z}_n)} \n",
    "\\end{align}\n",
    "\n",
    "\n",
    "<!-- *Hint*: From Eq. (2), we see that we can express the marginal likelihood $p(\\boldsymbol{x})$ as the likelihood of observing a sequence up to trial $n$: $p(\\boldsymbol{x}_{0:n}) = \\sum_z p(\\boldsymbol{x}_{0:n}, \\boldsymbol{z}_n) = \\sum_K \\alpha(z_{nk})$. -->\n",
    "\n",
    "Plot $\\gamma(z_{n})$ over trials."
   ]
  },
  {
   "cell_type": "code",
   "execution_count": 13,
   "id": "c23dee1e",
   "metadata": {},
   "outputs": [],
   "source": [
    "def expected_states(log_alphas, log_betas):\n",
    "\n",
    "    # upper: alpha * beta --> becomes log_alpha + log_beta\n",
    "    \n",
    "    # subtract log of the sum over states of log_alpha + log_beta\n",
    "    \n",
    "    # transform back by taking exp\n",
    "    \n",
    "    return gammas"
   ]
  },
  {
   "cell_type": "code",
   "execution_count": 14,
   "id": "75d0c6dc",
   "metadata": {},
   "outputs": [],
   "source": [
    "# call expected states function\n"
   ]
  },
  {
   "cell_type": "code",
   "execution_count": 15,
   "id": "5e2c1ed2",
   "metadata": {},
   "outputs": [
    {
     "data": {
      "text/plain": [
       "Text(0.5, 0, 'trial')"
      ]
     },
     "execution_count": 15,
     "metadata": {},
     "output_type": "execute_result"
    },
    {
     "data": {
      "image/png": "[encoded data removed]",
      "text/plain": [
       "<Figure size 1500x200 with 1 Axes>"
      ]
     },
     "metadata": {
      "needs_background": "light"
     },
     "output_type": "display_data"
    }
   ],
   "source": [
    "# plot gammas over the course of trials\n",
    "plt.figure(figsize=(15,2), dpi=100)\n",
    "\n",
    "# for k,g in enumerate(gammas.T):\n",
    "#     plt.plot(g, color=colors[k])\n",
    "plt.xlim(0,N)\n",
    "plt.ylabel(r'$\\gamma_{nk} = \\mathbb{E}_z[z_{nk}]$')\n",
    "plt.xlabel('trial')"
   ]
  },
  {
   "cell_type": "markdown",
   "id": "d8a4b063",
   "metadata": {},
   "source": [
    "### 2.3.5. Calculate expected transitions: Joint posterior $\\xi$\n",
    "\n",
    "Analogously, we can calculate the joint posterior $\\xi(z_n,z_{n-1}) = p(\\boldsymbol{z}_{n-1}, \\boldsymbol{z}_n | \\boldsymbol{x}, \\theta)$ from Eq. (3) (again omitting $\\theta$):\n",
    "\n",
    "\\begin{align}\n",
    "p(\\boldsymbol{z}_{n-1}, \\boldsymbol{z}_n | \\boldsymbol{x}) \n",
    "= \\frac{p(\\boldsymbol{x} | \\boldsymbol{z}_{n-1}, \\boldsymbol{z}_{n}) p(\\boldsymbol{z}_{n-1}, \\boldsymbol{z}_{n})}{p(\\boldsymbol{x})}\n",
    "= \\frac{p(\\boldsymbol{x}, \\boldsymbol{z}_{n-1}, \\boldsymbol{z}_{n})}{\\sum_{\\boldsymbol{z}_n}\\sum_{\\boldsymbol{z}_{n-1}} p(\\boldsymbol{x}, \\boldsymbol{z}_{n-1}, \\boldsymbol{z}_{n})} \n",
    "= \\frac{\\alpha(\\boldsymbol{z}_{n-1}) p(\\boldsymbol{x}_n | \\boldsymbol{z}_n) p(\\boldsymbol{z}_n | \\boldsymbol{z}_{n-1}) \\beta(\\boldsymbol{z}_n)}{\\sum_{\\boldsymbol{z}_n}\\sum_{\\boldsymbol{z}_{n-1}} \\alpha(\\boldsymbol{z}_{n-1}) p(\\boldsymbol{x}_n | \\boldsymbol{z}_n) p(\\boldsymbol{z}_n | \\boldsymbol{z}_{n-1}) \\beta(\\boldsymbol{z}_n)} \n",
    "\\end{align}, \n",
    "\n",
    "where $p(\\boldsymbol{x}_n | \\boldsymbol{z}_n, \\theta)$ is the likelihood of $\\boldsymbol{x}_n$ under any of the $k$ states encoded by $z_n$, and $p(\\boldsymbol{z}_n | \\boldsymbol{z}_{n-1}, \\theta)$ are transition probabilities stored in $\\boldsymbol{A}$.\n",
    "\n",
    "Call `hmmlib.expected_transitions(log_alphas, log_betas, log_likes, A)` to calculate expected values $\\xi(z_n,z_{n-1})$ of the joint posterior."
   ]
  },
  {
   "cell_type": "code",
   "execution_count": 16,
   "id": "de57c8a2",
   "metadata": {},
   "outputs": [],
   "source": [
    "# calculate expected transitions\n"
   ]
  },
  {
   "cell_type": "markdown",
   "id": "2b697f7e",
   "metadata": {},
   "source": [
    "### 2.3.6. Full E Step\n",
    "\n",
    "Write a function `HMM_estep(p, As, log_likes)` that calls `forward`, `backward`, `expected_states` and `expected_transitions` and returns $\\gamma(z_{nk}) \\in [0,1]^{T \\times K}$ and $\\xi(z_{n-1,k}, z_{n,j}) \\in [0,1]^{T \\times K \\times K}$, as well as the log likelihood.\n",
    "\n",
    "***Hint:*** In hidden Markov models, the likelihood $p(\\boldsymbol{x}) = p(\\boldsymbol{x}_N)$ comes for free from the forward-backward algorithm. Eq. (2) as written out in section 2.3.4. will tell you how to calculate it."
   ]
  },
  {
   "cell_type": "code",
   "execution_count": 17,
   "id": "ecc82b3a",
   "metadata": {},
   "outputs": [],
   "source": [
    "def HMM_estep(p, As, log_likes):\n",
    "    \n",
    "    # forward pass\n",
    "    \n",
    "    # backward pass\n",
    "    \n",
    "    # calculate posterior: expected states\n",
    "    \n",
    "    # calculate posterior: expected transitions\n",
    "    \n",
    "    # calculate log likelihood\n",
    "    \n",
    "    return gammas, xis, log_LL"
   ]
  },
  {
   "cell_type": "code",
   "execution_count": 18,
   "id": "84a5770d",
   "metadata": {},
   "outputs": [],
   "source": [
    "# call E step\n"
   ]
  },
  {
   "cell_type": "markdown",
   "id": "f261e377",
   "metadata": {},
   "source": [
    "## 3. M Step"
   ]
  },
  {
   "cell_type": "markdown",
   "id": "ac69a263",
   "metadata": {},
   "source": [
    "Good news: the M Step is more straightforward.\n",
    "\n",
    "As in the previous tutorial, it consists of plugging in $\\gamma(z_{nk})$ and $\\xi(z_{n-1,k}, z_{nj})$ in the expected complete-data log likelihood $\\mathbb{E}_{\\boldsymbol{z}}[\\ln p(\\boldsymbol{x}, \\boldsymbol{z}| \\theta)]$ from Eq. (1). We then derive it w.r.t. each of the model parameters $\\theta = \\{\\mu, \\Sigma, \\pi, A\\}$ (we'll spare you the math excercise). Setting these derivatives to zero leads to closed-form solutions for ML parameter updates as in the mixture model tutorial.\n",
    "\n",
    "The resulting solutions for each of the parameters are:\n",
    "\n",
    "\\begin{align}\n",
    "\\mu_k &= \\frac{\\sum_N \\gamma(z_{nk})\\boldsymbol{x}_n}{\\sum_N \\gamma(z_{nk})} \\\\\n",
    "\\end{align}<div style=\"text-align: right\"> Eq. (4) </div>\n",
    "\\begin{align}\n",
    "\\Sigma_k &= \\frac{\\sum_N \\gamma(z_{nk})(\\boldsymbol{x}_n -\\mu_k)(\\boldsymbol{x}_n -\\mu_k)^T}{\\sum_N\\gamma(z_{nk})} \\\\\n",
    "\\end{align}<div style=\"text-align: right\"> Eq. (5) </div>\n",
    "\\begin{align}\n",
    "\\pi_k = \\frac{\\gamma(z_{0,k})}{\\sum_K \\gamma(z_{0,j})}\n",
    "\\end{align}<div style=\"text-align: right\"> Eq. (6) </div>\n",
    "\\begin{align}\n",
    "A_{jk} = \\frac{\\sum_N \\xi(z_{n-1,j}, z_{nk})}{\\sum_K \\sum_N \\xi(z_{n-1,j}, z_{nl})}\n",
    "\\end{align}<div style=\"text-align: right\"> Eq. (7) </div>\n",
    "\n",
    "Write a function `HMM_mstep(data, gammas, xis)` that implements Eqs. (4-7) and returns the updated parameters. If you are stuck, look at the M step as pre-coded in the library."
   ]
  },
  {
   "cell_type": "code",
   "execution_count": 19,
   "id": "dc0eac1f",
   "metadata": {},
   "outputs": [],
   "source": [
    "def HMM_mstep(data, gammas, xis):\n",
    "    K = gammas.shape[1]\n",
    "    N = gammas.shape[0]\n",
    "    D = data.shape[-1]\n",
    "    \n",
    "    # class-specific normalization constant\n",
    "    \n",
    "    # mu\n",
    "    \n",
    "    # Sigma\n",
    "    \n",
    "#     for k in range(K):\n",
    "\n",
    "        # ... (insert code here)\n",
    "\n",
    "        # in case that only one data point is assigned to a class, we get zero variance\n",
    "        # --> reset cov matrix\n",
    "        # uncomment the lines\n",
    "#         if Nk[k]<1e-3:\n",
    "#             s[k,:,:] = np.eye(D) * 100\n",
    "\n",
    "    # pi\n",
    "    \n",
    "    # A\n",
    "        \n",
    "    return m, s, p, A"
   ]
  },
  {
   "cell_type": "code",
   "execution_count": 20,
   "id": "4505d12b",
   "metadata": {},
   "outputs": [],
   "source": [
    "# call M Step\n"
   ]
  },
  {
   "cell_type": "markdown",
   "id": "b86e9d8f",
   "metadata": {},
   "source": [
    "## 4. full EM for hidden Markov models\n",
    "\n",
    "We now have all code elements to run a full iteration of EM for the HMM. Write a code that 0) initializes parameters $\\theta = \\{\\mu, \\Sigma, \\pi, A\\}$, 1) performs the E Step and then 2) the M Step. Iterate over 1) and 2) 50 times. \n",
    "\n",
    "Repeat the procedure with 5 different random initializations. Save log likelihoods and model parameters for each repetition and pick the best model."
   ]
  },
  {
   "cell_type": "code",
   "execution_count": 21,
   "id": "c0eb3d94",
   "metadata": {},
   "outputs": [],
   "source": [
    "model = []; LLs = []\n",
    "\n",
    "# iterate 5 times\n",
    "    \n",
    "    # 0: initialization\n",
    "    \n",
    "    # iterate 50 times\n",
    "        \n",
    "        # evaluate log likelihoods \n",
    "        \n",
    "        # 1: E Step\n",
    "        \n",
    "        # 2: M step\n",
    "        "
   ]
  },
  {
   "cell_type": "markdown",
   "id": "234139c9",
   "metadata": {},
   "source": [
    "## 4.1. Learning curves\n",
    "\n",
    "Plot likelihood curves over learning to check model convergence."
   ]
  },
  {
   "cell_type": "code",
   "execution_count": 22,
   "id": "c7b6c68b",
   "metadata": {},
   "outputs": [
    {
     "data": {
      "image/png": "[encoded data removed]",
      "text/plain": [
       "<Figure size 900x300 with 2 Axes>"
      ]
     },
     "metadata": {
      "needs_background": "light"
     },
     "output_type": "display_data"
    }
   ],
   "source": [
    "# plot log likelihoods for all random initializations to check if model converged\n",
    "plt.figure(figsize=(9,3), dpi=100)\n",
    "plt.subplot(1,2,1)\n",
    "# plt.plot(np.array(LLs).T, 'k-', alpha=.2)\n",
    "plt.xlabel('iterations')\n",
    "plt.ylabel('total log likelihood')\n",
    "plt.xlim(0,50)\n",
    "plt.subplot(1,2,2)\n",
    "# plt.plot(np.array(LLs).T, 'k-', alpha=.2)\n",
    "plt.xlabel('iterations')\n",
    "plt.ylabel('total log likelihood')\n",
    "plt.xlim(0,20)\n",
    "plt.ylim(-24000, -18000)\n",
    "plt.tight_layout()"
   ]
  },
  {
   "cell_type": "markdown",
   "id": "8425c7ed",
   "metadata": {},
   "source": [
    "## 4.2. Visualize best model\n",
    "\n",
    "Pick the best model and plot the Gaussian distribution for each of the three states. Compare (qualitatively) to the ground truth. "
   ]
  },
  {
   "cell_type": "code",
   "execution_count": 23,
   "id": "261095c7",
   "metadata": {},
   "outputs": [],
   "source": [
    "# select best model\n"
   ]
  },
  {
   "cell_type": "code",
   "execution_count": 24,
   "id": "77051464",
   "metadata": {},
   "outputs": [
    {
     "data": {
      "image/png": "[encoded data removed]",
      "text/plain": [
       "<Figure size 700x300 with 2 Axes>"
      ]
     },
     "metadata": {
      "needs_background": "light"
     },
     "output_type": "display_data"
    }
   ],
   "source": [
    "# plot final means and covariances, as well as final mixture distribution\n",
    "\n",
    "# make 2D meshgrid\n",
    "x, y = np.mgrid[0:80:1, 0:60:1]\n",
    "vals = np.dstack((x, y))\n",
    "\n",
    "# evaluate pdfs\n",
    "\n",
    "# true pdfs\n",
    "\n",
    "plt.figure(figsize=(7,3), dpi=100)\n",
    "plt.subplot(1,2,1)\n",
    "# for k,pdf in enumerate(pdfs_true):\n",
    "#     plt.contour(pdf.T, colors=colors[k])\n",
    "plt.title('emission distributions (true)')\n",
    "plt.xlabel('horizontal position (a.u.)')\n",
    "plt.ylabel('vertical position (a.u.)')\n",
    "\n",
    "plt.subplot(1,2,2)\n",
    "# for k,pdf in enumerate(pdfs):\n",
    "#     plt.contour(pdf.T, colors=colors[k])\n",
    "plt.title('emission distributions (estimated)')\n",
    "plt.xlabel('horizontal position (a.u.)')\n",
    "plt.ylabel('vertical position (a.u.)')\n",
    "plt.tight_layout()"
   ]
  },
  {
   "cell_type": "markdown",
   "id": "96b9b4bc",
   "metadata": {},
   "source": [
    "# 3. Decoding the optimal sequence: Viterbi algorithm"
   ]
  },
  {
   "cell_type": "markdown",
   "id": "e0ca766e",
   "metadata": {},
   "source": [
    "In the hidden Markov model, we are often interested in classifying data points as belonging to one state or another. In our example, we would like to know which object a subject was looking at in each trial. Since $\\boldsymbol{z}$ is connected in time, we cannot just pick the state with the highest $\\gamma\\boldsymbol(z)_{nk}$ for each trial, but have to consider the whole sequence of states together.\n",
    "\n",
    "Since from each state $k_n$, we can go to any state $k_{n+1}$, and from there to any other state $k_{n+2}$ and so forth, there will be $K \\times K \\times  K ...$, i.e., $K^N$, potential sequences.\n",
    "\n",
    "The *Viterbi algorithm* is a smart way of tackling this problem iteratively: It will determine the most likely state in each trial $n$, based on a combination of the likelihood $p(\\boldsymbol{x}_n | \\boldsymbol{x}_n, \\theta)$, the most likely state in trial $n-1$, and the transition probabilities from trial $n-1$ to trial $n$.\n",
    "\n",
    "We have pre-coded the Viterbi algorithm for you. It works with log probabilities, and will return a sequence of values that you can directly compare to the ground truth sequence of `ks`. \n",
    "\n",
    "Evaluate the log likelihoods under the best model, and pass it to `hmmlib.log_viterbi(log_likes, A, p)`, together with $A$ and $\\pi$. Plot the fitted sequence vs. the true sequence of states."
   ]
  },
  {
   "cell_type": "code",
   "execution_count": 25,
   "id": "4ebf58e1",
   "metadata": {},
   "outputs": [],
   "source": [
    "# evalualte log likelihoods under the best model\n",
    "\n",
    "# call log viterbi\n"
   ]
  },
  {
   "cell_type": "code",
   "execution_count": 26,
   "id": "b73a8c73",
   "metadata": {},
   "outputs": [
    {
     "data": {
      "image/png": "[encoded data removed]",
      "text/plain": [
       "<Figure size 1080x288 with 2 Axes>"
      ]
     },
     "metadata": {
      "needs_background": "light"
     },
     "output_type": "display_data"
    }
   ],
   "source": [
    "plt.figure(figsize=(15,4))\n",
    "plt.subplot(2,1,1)\n",
    "# plt.plot(seq, 'k')\n",
    "plt.title('estimated state sequence')\n",
    "plt.xlim(0,1000)\n",
    "plt.xticks([])\n",
    "plt.ylabel('state k')\n",
    "plt.subplot(2,1,2)\n",
    "# plt.plot(ks, 'k', label='true')\n",
    "plt.title('true state sequence')\n",
    "plt.xlim(0,1000)\n",
    "plt.xlabel('trials')\n",
    "plt.ylabel('state k')\n",
    "plt.tight_layout()"
   ]
  },
  {
   "cell_type": "markdown",
   "id": "189d37bf",
   "metadata": {},
   "source": [
    "![](https://raw.githubusercontent.com/bambschool/BAMB2025/main/Day_4_latent_variable_models/end.png)"
   ]
  },
  {
   "cell_type": "code",
   "execution_count": null,
   "id": "87555eb9",
   "metadata": {},
   "outputs": [],
   "source": []
  }
 ],
 "metadata": {
  "kernelspec": {
   "display_name": "Python 3 (ipykernel)",
   "language": "python",
   "name": "python3"
  },
  "language_info": {
   "codemirror_mode": {
    "name": "ipython",
    "version": 3
   },
   "file_extension": ".py",
   "mimetype": "text/x-python",
   "name": "python",
   "nbconvert_exporter": "python",
   "pygments_lexer": "ipython3",
   "version": "3.8.12"
  }
 },
 "nbformat": 4,
 "nbformat_minor": 5
}
